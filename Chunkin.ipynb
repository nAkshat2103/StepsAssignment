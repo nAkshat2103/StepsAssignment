{
  "cells": [
    {
      "cell_type": "markdown",
      "metadata": {
        "id": "view-in-github",
        "colab_type": "text"
      },
      "source": [
        "<a href=\"https://colab.research.google.com/github/nAkshat2103/StepsAssignment/blob/main/Chunkin.ipynb\" target=\"_parent\"><img src=\"https://colab.research.google.com/assets/colab-badge.svg\" alt=\"Open In Colab\"/></a>"
      ]
    },
    {
      "cell_type": "code",
      "execution_count": null,
      "metadata": {
        "id": "_mjK-MtmVrjP"
      },
      "outputs": [],
      "source": [
        "import pandas as pd\n",
        "from langchain.text_splitter import RecursiveCharacterTextSplitter\n",
        "\n"
      ]
    },
    {
      "cell_type": "code",
      "source": [
        "pip install langchain"
      ],
      "metadata": {
        "colab": {
          "base_uri": "https://localhost:8080/"
        },
        "id": "ayfKtabLIvB2",
        "outputId": "6530009d-9a05-4eaa-9b5e-947d2d7912c1"
      },
      "execution_count": null,
      "outputs": [
        {
          "output_type": "stream",
          "name": "stdout",
          "text": [
            "Collecting langchain\n",
            "  Downloading langchain-0.2.7-py3-none-any.whl (983 kB)\n",
            "\u001b[2K     \u001b[90m━━━━━━━━━━━━━━━━━━━━━━━━━━━━━━━━━━━━━━━━\u001b[0m \u001b[32m983.6/983.6 kB\u001b[0m \u001b[31m4.4 MB/s\u001b[0m eta \u001b[36m0:00:00\u001b[0m\n",
            "\u001b[?25hRequirement already satisfied: PyYAML>=5.3 in /usr/local/lib/python3.10/dist-packages (from langchain) (6.0.1)\n",
            "Requirement already satisfied: SQLAlchemy<3,>=1.4 in /usr/local/lib/python3.10/dist-packages (from langchain) (2.0.31)\n",
            "Requirement already satisfied: aiohttp<4.0.0,>=3.8.3 in /usr/local/lib/python3.10/dist-packages (from langchain) (3.9.5)\n",
            "Requirement already satisfied: async-timeout<5.0.0,>=4.0.0 in /usr/local/lib/python3.10/dist-packages (from langchain) (4.0.3)\n",
            "Collecting langchain-core<0.3.0,>=0.2.12 (from langchain)\n",
            "  Downloading langchain_core-0.2.13-py3-none-any.whl (357 kB)\n",
            "\u001b[2K     \u001b[90m━━━━━━━━━━━━━━━━━━━━━━━━━━━━━━━━━━━━━━━━\u001b[0m \u001b[32m357.9/357.9 kB\u001b[0m \u001b[31m25.9 MB/s\u001b[0m eta \u001b[36m0:00:00\u001b[0m\n",
            "\u001b[?25hCollecting langchain-text-splitters<0.3.0,>=0.2.0 (from langchain)\n",
            "  Downloading langchain_text_splitters-0.2.2-py3-none-any.whl (25 kB)\n",
            "Collecting langsmith<0.2.0,>=0.1.17 (from langchain)\n",
            "  Downloading langsmith-0.1.85-py3-none-any.whl (127 kB)\n",
            "\u001b[2K     \u001b[90m━━━━━━━━━━━━━━━━━━━━━━━━━━━━━━━━━━━━━━━━\u001b[0m \u001b[32m127.9/127.9 kB\u001b[0m \u001b[31m13.5 MB/s\u001b[0m eta \u001b[36m0:00:00\u001b[0m\n",
            "\u001b[?25hRequirement already satisfied: numpy<2,>=1 in /usr/local/lib/python3.10/dist-packages (from langchain) (1.25.2)\n",
            "Requirement already satisfied: pydantic<3,>=1 in /usr/local/lib/python3.10/dist-packages (from langchain) (2.8.0)\n",
            "Requirement already satisfied: requests<3,>=2 in /usr/local/lib/python3.10/dist-packages (from langchain) (2.31.0)\n",
            "Requirement already satisfied: tenacity!=8.4.0,<9.0.0,>=8.1.0 in /usr/local/lib/python3.10/dist-packages (from langchain) (8.4.2)\n",
            "Requirement already satisfied: aiosignal>=1.1.2 in /usr/local/lib/python3.10/dist-packages (from aiohttp<4.0.0,>=3.8.3->langchain) (1.3.1)\n",
            "Requirement already satisfied: attrs>=17.3.0 in /usr/local/lib/python3.10/dist-packages (from aiohttp<4.0.0,>=3.8.3->langchain) (23.2.0)\n",
            "Requirement already satisfied: frozenlist>=1.1.1 in /usr/local/lib/python3.10/dist-packages (from aiohttp<4.0.0,>=3.8.3->langchain) (1.4.1)\n",
            "Requirement already satisfied: multidict<7.0,>=4.5 in /usr/local/lib/python3.10/dist-packages (from aiohttp<4.0.0,>=3.8.3->langchain) (6.0.5)\n",
            "Requirement already satisfied: yarl<2.0,>=1.0 in /usr/local/lib/python3.10/dist-packages (from aiohttp<4.0.0,>=3.8.3->langchain) (1.9.4)\n",
            "Collecting jsonpatch<2.0,>=1.33 (from langchain-core<0.3.0,>=0.2.12->langchain)\n",
            "  Downloading jsonpatch-1.33-py2.py3-none-any.whl (12 kB)\n",
            "Requirement already satisfied: packaging<25,>=23.2 in /usr/local/lib/python3.10/dist-packages (from langchain-core<0.3.0,>=0.2.12->langchain) (24.1)\n",
            "Collecting orjson<4.0.0,>=3.9.14 (from langsmith<0.2.0,>=0.1.17->langchain)\n",
            "  Downloading orjson-3.10.6-cp310-cp310-manylinux_2_17_x86_64.manylinux2014_x86_64.whl (141 kB)\n",
            "\u001b[2K     \u001b[90m━━━━━━━━━━━━━━━━━━━━━━━━━━━━━━━━━━━━━━━━\u001b[0m \u001b[32m141.1/141.1 kB\u001b[0m \u001b[31m12.5 MB/s\u001b[0m eta \u001b[36m0:00:00\u001b[0m\n",
            "\u001b[?25hRequirement already satisfied: annotated-types>=0.4.0 in /usr/local/lib/python3.10/dist-packages (from pydantic<3,>=1->langchain) (0.7.0)\n",
            "Requirement already satisfied: pydantic-core==2.20.0 in /usr/local/lib/python3.10/dist-packages (from pydantic<3,>=1->langchain) (2.20.0)\n",
            "Requirement already satisfied: typing-extensions>=4.6.1 in /usr/local/lib/python3.10/dist-packages (from pydantic<3,>=1->langchain) (4.12.2)\n",
            "Requirement already satisfied: charset-normalizer<4,>=2 in /usr/local/lib/python3.10/dist-packages (from requests<3,>=2->langchain) (3.3.2)\n",
            "Requirement already satisfied: idna<4,>=2.5 in /usr/local/lib/python3.10/dist-packages (from requests<3,>=2->langchain) (3.7)\n",
            "Requirement already satisfied: urllib3<3,>=1.21.1 in /usr/local/lib/python3.10/dist-packages (from requests<3,>=2->langchain) (2.0.7)\n",
            "Requirement already satisfied: certifi>=2017.4.17 in /usr/local/lib/python3.10/dist-packages (from requests<3,>=2->langchain) (2024.6.2)\n",
            "Requirement already satisfied: greenlet!=0.4.17 in /usr/local/lib/python3.10/dist-packages (from SQLAlchemy<3,>=1.4->langchain) (3.0.3)\n",
            "Collecting jsonpointer>=1.9 (from jsonpatch<2.0,>=1.33->langchain-core<0.3.0,>=0.2.12->langchain)\n",
            "  Downloading jsonpointer-3.0.0-py2.py3-none-any.whl (7.6 kB)\n",
            "Installing collected packages: orjson, jsonpointer, jsonpatch, langsmith, langchain-core, langchain-text-splitters, langchain\n",
            "Successfully installed jsonpatch-1.33 jsonpointer-3.0.0 langchain-0.2.7 langchain-core-0.2.13 langchain-text-splitters-0.2.2 langsmith-0.1.85 orjson-3.10.6\n"
          ]
        }
      ]
    },
    {
      "cell_type": "code",
      "source": [
        "df=pd.read_csv(\"/content/scraped_data1.csv\")\n",
        "df.head()"
      ],
      "metadata": {
        "colab": {
          "base_uri": "https://localhost:8080/",
          "height": 293
        },
        "id": "vxVmK3vFCnJ-",
        "outputId": "ee058e4b-8c57-4eff-c741-dd463427bde2"
      },
      "execution_count": null,
      "outputs": [
        {
          "output_type": "execute_result",
          "data": {
            "text/plain": [
              "                                                 url  \\\n",
              "0                      https://docs.nvidia.com/login   \n",
              "1  https://docs.nvidia.com/ngc/ngc-deploy-on-prem...   \n",
              "2  https://docs.nvidia.com/cloudera/reference-arc...   \n",
              "3  https://docs.nvidia.com/cloudera/reference-arc...   \n",
              "4  https://docs.nvidia.com/cloudera/reference-arc...   \n",
              "\n",
              "                                                data  \n",
              "0  ['Privacy Policy | Manage My Privacy | Do Not ...  \n",
              "1  ['NVIDIA-Certified Systems', '  ', '\\nNVIDIA-C...  \n",
              "2  ['Reference Build', 'Hardware Configurations',...  \n",
              "3  ['Support', 'Contact Information', 'NVIDIA and...  \n",
              "4  ['NVIDIA + Cloudera Platform Components', 'Ove...  "
            ],
            "text/html": [
              "\n",
              "  <div id=\"df-33620dc9-fef4-4640-a8d8-3d2ca770648e\" class=\"colab-df-container\">\n",
              "    <div>\n",
              "<style scoped>\n",
              "    .dataframe tbody tr th:only-of-type {\n",
              "        vertical-align: middle;\n",
              "    }\n",
              "\n",
              "    .dataframe tbody tr th {\n",
              "        vertical-align: top;\n",
              "    }\n",
              "\n",
              "    .dataframe thead th {\n",
              "        text-align: right;\n",
              "    }\n",
              "</style>\n",
              "<table border=\"1\" class=\"dataframe\">\n",
              "  <thead>\n",
              "    <tr style=\"text-align: right;\">\n",
              "      <th></th>\n",
              "      <th>url</th>\n",
              "      <th>data</th>\n",
              "    </tr>\n",
              "  </thead>\n",
              "  <tbody>\n",
              "    <tr>\n",
              "      <th>0</th>\n",
              "      <td>https://docs.nvidia.com/login</td>\n",
              "      <td>['Privacy Policy | Manage My Privacy | Do Not ...</td>\n",
              "    </tr>\n",
              "    <tr>\n",
              "      <th>1</th>\n",
              "      <td>https://docs.nvidia.com/ngc/ngc-deploy-on-prem...</td>\n",
              "      <td>['NVIDIA-Certified Systems', '  ', '\\nNVIDIA-C...</td>\n",
              "    </tr>\n",
              "    <tr>\n",
              "      <th>2</th>\n",
              "      <td>https://docs.nvidia.com/cloudera/reference-arc...</td>\n",
              "      <td>['Reference Build', 'Hardware Configurations',...</td>\n",
              "    </tr>\n",
              "    <tr>\n",
              "      <th>3</th>\n",
              "      <td>https://docs.nvidia.com/cloudera/reference-arc...</td>\n",
              "      <td>['Support', 'Contact Information', 'NVIDIA and...</td>\n",
              "    </tr>\n",
              "    <tr>\n",
              "      <th>4</th>\n",
              "      <td>https://docs.nvidia.com/cloudera/reference-arc...</td>\n",
              "      <td>['NVIDIA + Cloudera Platform Components', 'Ove...</td>\n",
              "    </tr>\n",
              "  </tbody>\n",
              "</table>\n",
              "</div>\n",
              "    <div class=\"colab-df-buttons\">\n",
              "\n",
              "  <div class=\"colab-df-container\">\n",
              "    <button class=\"colab-df-convert\" onclick=\"convertToInteractive('df-33620dc9-fef4-4640-a8d8-3d2ca770648e')\"\n",
              "            title=\"Convert this dataframe to an interactive table.\"\n",
              "            style=\"display:none;\">\n",
              "\n",
              "  <svg xmlns=\"http://www.w3.org/2000/svg\" height=\"24px\" viewBox=\"0 -960 960 960\">\n",
              "    <path d=\"M120-120v-720h720v720H120Zm60-500h600v-160H180v160Zm220 220h160v-160H400v160Zm0 220h160v-160H400v160ZM180-400h160v-160H180v160Zm440 0h160v-160H620v160ZM180-180h160v-160H180v160Zm440 0h160v-160H620v160Z\"/>\n",
              "  </svg>\n",
              "    </button>\n",
              "\n",
              "  <style>\n",
              "    .colab-df-container {\n",
              "      display:flex;\n",
              "      gap: 12px;\n",
              "    }\n",
              "\n",
              "    .colab-df-convert {\n",
              "      background-color: #E8F0FE;\n",
              "      border: none;\n",
              "      border-radius: 50%;\n",
              "      cursor: pointer;\n",
              "      display: none;\n",
              "      fill: #1967D2;\n",
              "      height: 32px;\n",
              "      padding: 0 0 0 0;\n",
              "      width: 32px;\n",
              "    }\n",
              "\n",
              "    .colab-df-convert:hover {\n",
              "      background-color: #E2EBFA;\n",
              "      box-shadow: 0px 1px 2px rgba(60, 64, 67, 0.3), 0px 1px 3px 1px rgba(60, 64, 67, 0.15);\n",
              "      fill: #174EA6;\n",
              "    }\n",
              "\n",
              "    .colab-df-buttons div {\n",
              "      margin-bottom: 4px;\n",
              "    }\n",
              "\n",
              "    [theme=dark] .colab-df-convert {\n",
              "      background-color: #3B4455;\n",
              "      fill: #D2E3FC;\n",
              "    }\n",
              "\n",
              "    [theme=dark] .colab-df-convert:hover {\n",
              "      background-color: #434B5C;\n",
              "      box-shadow: 0px 1px 3px 1px rgba(0, 0, 0, 0.15);\n",
              "      filter: drop-shadow(0px 1px 2px rgba(0, 0, 0, 0.3));\n",
              "      fill: #FFFFFF;\n",
              "    }\n",
              "  </style>\n",
              "\n",
              "    <script>\n",
              "      const buttonEl =\n",
              "        document.querySelector('#df-33620dc9-fef4-4640-a8d8-3d2ca770648e button.colab-df-convert');\n",
              "      buttonEl.style.display =\n",
              "        google.colab.kernel.accessAllowed ? 'block' : 'none';\n",
              "\n",
              "      async function convertToInteractive(key) {\n",
              "        const element = document.querySelector('#df-33620dc9-fef4-4640-a8d8-3d2ca770648e');\n",
              "        const dataTable =\n",
              "          await google.colab.kernel.invokeFunction('convertToInteractive',\n",
              "                                                    [key], {});\n",
              "        if (!dataTable) return;\n",
              "\n",
              "        const docLinkHtml = 'Like what you see? Visit the ' +\n",
              "          '<a target=\"_blank\" href=https://colab.research.google.com/notebooks/data_table.ipynb>data table notebook</a>'\n",
              "          + ' to learn more about interactive tables.';\n",
              "        element.innerHTML = '';\n",
              "        dataTable['output_type'] = 'display_data';\n",
              "        await google.colab.output.renderOutput(dataTable, element);\n",
              "        const docLink = document.createElement('div');\n",
              "        docLink.innerHTML = docLinkHtml;\n",
              "        element.appendChild(docLink);\n",
              "      }\n",
              "    </script>\n",
              "  </div>\n",
              "\n",
              "\n",
              "<div id=\"df-54f5d740-fe6c-4808-b864-b7c3a7d11399\">\n",
              "  <button class=\"colab-df-quickchart\" onclick=\"quickchart('df-54f5d740-fe6c-4808-b864-b7c3a7d11399')\"\n",
              "            title=\"Suggest charts\"\n",
              "            style=\"display:none;\">\n",
              "\n",
              "<svg xmlns=\"http://www.w3.org/2000/svg\" height=\"24px\"viewBox=\"0 0 24 24\"\n",
              "     width=\"24px\">\n",
              "    <g>\n",
              "        <path d=\"M19 3H5c-1.1 0-2 .9-2 2v14c0 1.1.9 2 2 2h14c1.1 0 2-.9 2-2V5c0-1.1-.9-2-2-2zM9 17H7v-7h2v7zm4 0h-2V7h2v10zm4 0h-2v-4h2v4z\"/>\n",
              "    </g>\n",
              "</svg>\n",
              "  </button>\n",
              "\n",
              "<style>\n",
              "  .colab-df-quickchart {\n",
              "      --bg-color: #E8F0FE;\n",
              "      --fill-color: #1967D2;\n",
              "      --hover-bg-color: #E2EBFA;\n",
              "      --hover-fill-color: #174EA6;\n",
              "      --disabled-fill-color: #AAA;\n",
              "      --disabled-bg-color: #DDD;\n",
              "  }\n",
              "\n",
              "  [theme=dark] .colab-df-quickchart {\n",
              "      --bg-color: #3B4455;\n",
              "      --fill-color: #D2E3FC;\n",
              "      --hover-bg-color: #434B5C;\n",
              "      --hover-fill-color: #FFFFFF;\n",
              "      --disabled-bg-color: #3B4455;\n",
              "      --disabled-fill-color: #666;\n",
              "  }\n",
              "\n",
              "  .colab-df-quickchart {\n",
              "    background-color: var(--bg-color);\n",
              "    border: none;\n",
              "    border-radius: 50%;\n",
              "    cursor: pointer;\n",
              "    display: none;\n",
              "    fill: var(--fill-color);\n",
              "    height: 32px;\n",
              "    padding: 0;\n",
              "    width: 32px;\n",
              "  }\n",
              "\n",
              "  .colab-df-quickchart:hover {\n",
              "    background-color: var(--hover-bg-color);\n",
              "    box-shadow: 0 1px 2px rgba(60, 64, 67, 0.3), 0 1px 3px 1px rgba(60, 64, 67, 0.15);\n",
              "    fill: var(--button-hover-fill-color);\n",
              "  }\n",
              "\n",
              "  .colab-df-quickchart-complete:disabled,\n",
              "  .colab-df-quickchart-complete:disabled:hover {\n",
              "    background-color: var(--disabled-bg-color);\n",
              "    fill: var(--disabled-fill-color);\n",
              "    box-shadow: none;\n",
              "  }\n",
              "\n",
              "  .colab-df-spinner {\n",
              "    border: 2px solid var(--fill-color);\n",
              "    border-color: transparent;\n",
              "    border-bottom-color: var(--fill-color);\n",
              "    animation:\n",
              "      spin 1s steps(1) infinite;\n",
              "  }\n",
              "\n",
              "  @keyframes spin {\n",
              "    0% {\n",
              "      border-color: transparent;\n",
              "      border-bottom-color: var(--fill-color);\n",
              "      border-left-color: var(--fill-color);\n",
              "    }\n",
              "    20% {\n",
              "      border-color: transparent;\n",
              "      border-left-color: var(--fill-color);\n",
              "      border-top-color: var(--fill-color);\n",
              "    }\n",
              "    30% {\n",
              "      border-color: transparent;\n",
              "      border-left-color: var(--fill-color);\n",
              "      border-top-color: var(--fill-color);\n",
              "      border-right-color: var(--fill-color);\n",
              "    }\n",
              "    40% {\n",
              "      border-color: transparent;\n",
              "      border-right-color: var(--fill-color);\n",
              "      border-top-color: var(--fill-color);\n",
              "    }\n",
              "    60% {\n",
              "      border-color: transparent;\n",
              "      border-right-color: var(--fill-color);\n",
              "    }\n",
              "    80% {\n",
              "      border-color: transparent;\n",
              "      border-right-color: var(--fill-color);\n",
              "      border-bottom-color: var(--fill-color);\n",
              "    }\n",
              "    90% {\n",
              "      border-color: transparent;\n",
              "      border-bottom-color: var(--fill-color);\n",
              "    }\n",
              "  }\n",
              "</style>\n",
              "\n",
              "  <script>\n",
              "    async function quickchart(key) {\n",
              "      const quickchartButtonEl =\n",
              "        document.querySelector('#' + key + ' button');\n",
              "      quickchartButtonEl.disabled = true;  // To prevent multiple clicks.\n",
              "      quickchartButtonEl.classList.add('colab-df-spinner');\n",
              "      try {\n",
              "        const charts = await google.colab.kernel.invokeFunction(\n",
              "            'suggestCharts', [key], {});\n",
              "      } catch (error) {\n",
              "        console.error('Error during call to suggestCharts:', error);\n",
              "      }\n",
              "      quickchartButtonEl.classList.remove('colab-df-spinner');\n",
              "      quickchartButtonEl.classList.add('colab-df-quickchart-complete');\n",
              "    }\n",
              "    (() => {\n",
              "      let quickchartButtonEl =\n",
              "        document.querySelector('#df-54f5d740-fe6c-4808-b864-b7c3a7d11399 button');\n",
              "      quickchartButtonEl.style.display =\n",
              "        google.colab.kernel.accessAllowed ? 'block' : 'none';\n",
              "    })();\n",
              "  </script>\n",
              "</div>\n",
              "\n",
              "    </div>\n",
              "  </div>\n"
            ],
            "application/vnd.google.colaboratory.intrinsic+json": {
              "type": "dataframe",
              "variable_name": "df",
              "summary": "{\n  \"name\": \"df\",\n  \"rows\": 4898,\n  \"fields\": [\n    {\n      \"column\": \"url\",\n      \"properties\": {\n        \"dtype\": \"string\",\n        \"num_unique_values\": 4898,\n        \"samples\": [\n          \"https://docs.nvidia.com/networking/software/adapter-software/index.html\",\n          \"https://docs.nvidia.com/tao/tao-toolkit-archive/tao-40-1/text/tao-converter/tao_converter_mrcnn.html\",\n          \"https://docs.nvidia.com/clara-holoscan/archive/clara-holoscan-0.2.0/extensions/namespace_nvidia__holoscan__segmentation_visualizer.html\"\n        ],\n        \"semantic_type\": \"\",\n        \"description\": \"\"\n      }\n    },\n    {\n      \"column\": \"data\",\n      \"properties\": {\n        \"dtype\": \"string\",\n        \"num_unique_values\": 4005,\n        \"samples\": [\n          \"['StandardExtension', 'Most commonly used interfaces and components in Gxf Core.', 'UUID: 8ec2d5d6-b5df-48bf-8dee-0252606fdd7e', 'Version: 2.0.0', 'Author: NVIDIA', 'Interfaces', '\\\\n\\\\n    nvidia::gxf::Codelet\\\\n    \\\\n', 'Interface for a component which can be executed to run custom code.', 'Component ID: 5c6166fa-6eed-41e7-bbf0-bd48cd6e1014', 'Base Type: nvidia::gxf::Component', 'Defined in: gxf/std/codelet.hpp', '\\\\n\\\\n    nvidia::gxf::Clock\\\\n    \\\\n', 'Interface for clock components which provide time.', 'Component ID: 779e61c2-ae70-441d-a26c-8ca64b39f8e7', 'Base Type: nvidia::gxf::Component', 'Defined in: gxf/std/clock.hpp', '\\\\n\\\\n    nvidia::gxf::System\\\\n    \\\\n', 'Component interface for systems which are run as part of the application run cycle.', 'Component ID: d1febca1-80df-454e-a3f2-715f2b3c6e69', 'Base Type: nvidia::gxf::Component', '\\\\n\\\\n    nvidia::gxf::Queue\\\\n    \\\\n', 'Interface for storing entities in a queue.', 'Component ID: 792151bf-3138-4603-a912-5ca91828dea8', 'Base Type: nvidia::gxf::Component', 'Defined in: gxf/std/queue.hpp', '\\\\n\\\\n    nvidia::gxf::Router\\\\n    \\\\n', 'Interface for classes which are routing messages in and out of entities.', 'Component ID: 8b317aad-f55c-4c07-8520-8f66db92a19e', 'Defined in: gxf/std/router.hpp', '\\\\n\\\\n    nvidia::gxf::Transmitter\\\\n    \\\\n', 'Interface for publishing entities.', 'Component ID: c30cc60f-0db2-409d-92b6-b2db92e02cce', 'Base Type: nvidia::gxf::Queue', 'Defined in: gxf/std/transmitter.hpp', '\\\\n\\\\n    nvidia::gxf::Receiver\\\\n    \\\\n', 'Interface for receiving entities.', 'Component ID: a47d2f62-245f-40fc-90b7-5dc78ff2437e', 'Base Type: nvidia::gxf::Queue', 'Defined in: gxf/std/receiver.hpp', '\\\\n\\\\n    nvidia::gxf::Scheduler\\\\n    \\\\n', 'A simple poll-based single-threaded scheduler which executes codelets.', 'Component ID: f0103b75-d2e1-4d70-9b13-3fe5b40209be', 'Base Type: nvidia::gxf::System', 'Defined in: nvidia/gxf/system.hpp', '\\\\n\\\\n    nvidia::gxf::SchedulingTerm\\\\n    \\\\n', 'Interface for terms used by a scheduler to determine if codelets in an entity are ready to step.', 'Component ID: 184d8e4e-086c-475a-903a-69d723f95d19', 'Base Type: nvidia::gxf::Component', 'Defined in: gxf/std/scheduling_term.hpp', '\\\\n\\\\n    nvidia::gxf::Allocator\\\\n    \\\\n', 'Provides allocation and deallocation of memory.', 'Component ID: 3cdd82d0-2326-4867-8de2-d565dbe28e03', 'Base Type: nvidia::gxf::Component', 'Defined in: nvidia/gxf/allocator.hpp', '\\\\n\\\\n    nvidia::gxf::Monitor\\\\n    \\\\n', 'Monitors entities during execution.', 'Component ID: 9ccf9421-b35b-8c79-e1f0-97dc23bd38ea', 'Base Type: nvidia::gxf::Component', 'Defined in: nvidia/gxf/monitor.hpp', 'Components', '\\\\n\\\\n    nvidia::gxf::RealtimeClock\\\\n    \\\\n', 'A real-time clock which runs based off a system steady clock.', 'Component ID: 7b170b7b-cf1a-4f3f-997c-bfea25342381', 'Base Type: nvidia::gxf::Clock', '\\\\n\\\\n    Parameters\\\\n    \\\\n', 'initial_time_offset', 'The initial time offset used until time scale is changed manually.', 'Flags: GXF_PARAMETER_FLAGS_NONE', 'Type: GXF_PARAMETER_TYPE_FLOAT64', '\\\\n', 'initial_time_scale', 'The initial time scale used until time scale is changed manually.', 'Flags: GXF_PARAMETER_FLAGS_NONE', 'Type: GXF_PARAMETER_TYPE_FLOAT64', '\\\\n', 'use_time_since_epoch', 'If true, clock time is time since epoch + initial_time_offset at initialize().Otherwise clock time is initial_time_offset at initialize().', 'Flags: GXF_PARAMETER_FLAGS_NONE', 'Type: GXF_PARAMETER_TYPE_BOOL', '\\\\n\\\\n    nvidia::gxf::ManualClock\\\\n    \\\\n', 'A manual clock which is instrumented manually.', 'Component ID: 52fa1f97-eba8-472a-a8ca-4cff1a2c440f', 'Base Type: nvidia::gxf::Clock', '\\\\n\\\\n    Parameters\\\\n    \\\\n', 'initial_timestamp', 'The initial timestamp on the clock (in nanoseconds).', 'Flags: GXF_PARAMETER_FLAGS_NONE', 'Type: GXF_PARAMETER_TYPE_INT64', '\\\\n\\\\n    nvidia::gxf::SystemGroup\\\\n    \\\\n', 'A group of systems.', 'Component ID: 3d23d470-0aed-41c6-ac92-685c1b5469a0', 'Base Type: nvidia::gxf::System', '\\\\n\\\\n    nvidia::gxf::MessageRouter\\\\n    \\\\n', 'A router which sends transmitted messages to receivers.', 'Component ID: 84fd5d56-fda6-4937-0b3c-c283252553d8', 'Base Type: nvidia::gxf::Router', '\\\\n\\\\n    nvidia::gxf::RouterGroup\\\\n    \\\\n', 'A group of routers.', 'Component ID: ca64ee14-2280-4099-9f10-d4b501e09117', 'Base Type: nvidia::gxf::Router', '\\\\n\\\\n    nvidia::gxf::DoubleBufferTransmitter\\\\n    \\\\n', 'A transmitter which uses a double-buffered queue where messages are pushed to a backstage after they are published.', 'Component ID: 0c3c0ec7-77f1-4389-aef1-6bae85bddc13', 'Base Type: nvidia::gxf::Transmitter', '\\\\n\\\\n    Parameters\\\\n    \\\\n', 'capacity', 'Flags: GXF_PARAMETER_FLAGS_NONE', 'Type: GXF_PARAMETER_TYPE_UINT64', 'Default: 1', '\\\\n', 'policy', '0: pop, 1: reject, 2: fault.', 'Flags: GXF_PARAMETER_FLAGS_NONE', 'Type: GXF_PARAMETER_TYPE_UINT64', 'Default: 2', '\\\\n\\\\n    nvidia::gxf::DoubleBufferReceiver\\\\n    \\\\n', 'A receiver which uses a double-buffered queue where new messages are first pushed to a backstage.', 'Component ID: ee45883d-bf84-4f99-8419-7c5e9deac6a5', 'Base Type: nvidia::gxf::Receiver', '\\\\n\\\\n    Parameters\\\\n    \\\\n', 'capacity', 'Flags: GXF_PARAMETER_FLAGS_NONE', 'Type: GXF_PARAMETER_TYPE_UINT64', 'Default: 1', '\\\\n', 'policy', '0: pop, 1: reject, 2: fault', 'Flags: GXF_PARAMETER_FLAGS_NONE', 'Type: GXF_PARAMETER_TYPE_UINT64', 'Default: 2', '\\\\n\\\\n    nvidia::gxf::Connection\\\\n    \\\\n', 'A component which establishes a connection between two other components.', 'Component ID: cc71afae-5ede-47e9-b267-60a5c750a89a', 'Base Type: nvidia::gxf::Component', '\\\\n\\\\n    Parameters\\\\n    \\\\n', 'source', 'Flags: GXF_PARAMETER_FLAGS_NONE', 'Type: GXF_PARAMETER_TYPE_HANDLE', 'Handle Type: nvidia::gxf::Transmitter', '\\\\n', 'target', 'Flags: GXF_PARAMETER_FLAGS_NONE', 'Type: GXF_PARAMETER_TYPE_HANDLE', 'Handle Type: nvidia::gxf::Receiver', '\\\\n\\\\n    nvidia::gxf::PeriodicSchedulingTerm\\\\n    \\\\n', 'A component which specifies that an entity shall be executed periodically.', 'Component ID: d392c98a-9b08-49b4-a422-d5fe6cd72e3e', 'Base Type: nvidia::gxf::SchedulingTerm', '\\\\n\\\\n    Parameters\\\\n    \\\\n', 'recess_period', 'The recess period indicates the minimum amount of time which has to pass before the entity is permitted to execute again. The period is specified as a string containing of a number and an (optional) unit. If no unit is given the value is assumed to be in nanoseconds. Supported units are: Hz, s, ms. Example: 10ms, 10000000, 0.2s, 50Hz.', 'Flags: GXF_PARAMETER_FLAGS_NONE', 'Type: GXF_PARAMETER_TYPE_STRING', '\\\\n\\\\n    nvidia::gxf::CountSchedulingTerm\\\\n    \\\\n', 'A component which specifies that an entity shall be executed exactly a given number of times.', 'Component ID: f89da2e4-fddf-4aa2-9a80-1119ba3fde05', 'Base Type: nvidia::gxf::SchedulingTerm', '\\\\n\\\\n    Parameters\\\\n    \\\\n', 'count', 'The total number of time this term will permit execution.', 'Flags: GXF_PARAMETER_FLAGS_NONE', 'Type: GXF_PARAMETER_TYPE_INT64', '\\\\n\\\\n    nvidia::gxf::TargetTimeSchedulingTerm\\\\n    \\\\n', 'A component where the next execution time of the entity needs to be specified after every tick.', 'Component ID: e4aaf5c3-2b10-4c9a-c463-ebf6084149bf', 'Base Type: nvidia::gxf::SchedulingTerm', '\\\\n\\\\n    Parameters\\\\n    \\\\n', 'clock', 'The clock used to define target time.', 'Flags: GXF_PARAMETER_FLAGS_NONE', 'Type: GXF_PARAMETER_TYPE_HANDLE', 'Handle Type: nvidia::gxf::Clock', '\\\\n\\\\n    nvidia::gxf::DownstreamReceptiveSchedulingTerm\\\\n    \\\\n', 'A component which specifies that an entity shall be executed if receivers for a certain transmitter can accept new messages.', 'Component ID: 9de75119-8d0f-4819-9a71-2aeaefd23f71', 'Base Type: nvidia::gxf::SchedulingTerm', '\\\\n\\\\n    Parameters\\\\n    \\\\n', 'min_size', 'The term permits execution if the receiver connected to the transmitter has at least the specified number of free slots in its back buffer.', 'Flags: GXF_PARAMETER_FLAGS_NONE', 'Type: GXF_PARAMETER_TYPE_UINT64', '\\\\n', 'transmitter', 'The term permits execution if this transmitter can publish a message, i.e. if the receiver which is connected to this transmitter can receive messages.', 'Flags: GXF_PARAMETER_FLAGS_NONE', 'Type: GXF_PARAMETER_TYPE_HANDLE', 'Handle Type: nvidia::gxf::Transmitter', '\\\\n\\\\n    nvidia::gxf::MessageAvailableSchedulingTerm\\\\n    \\\\n', 'A scheduling term which specifies that an entity can be executed when the total number of messages over a set of input channels is at least a given number of messages.', 'Component ID: fe799e65-f78b-48eb-beb6-e73083a12d5b', 'Base Type: nvidia::gxf::SchedulingTerm', '\\\\n\\\\n    Parameters\\\\n    \\\\n', 'front_stage_max_size', 'If set the scheduling term will only allow execution if the number of messages in the front stage does not exceed this count. It can for example be used in combination with codelets which do not clear the front stage in every tick.', 'Flags: GXF_PARAMETER_FLAGS_OPTIONAL', 'Type: GXF_PARAMETER_TYPE_UINT64', '\\\\n', 'min_size', 'The scheduling term permits execution if the given receiver has at least the given number of messages available.', 'Flags: GXF_PARAMETER_FLAGS_NONE', 'Type: GXF_PARAMETER_TYPE_UINT64', '\\\\n', 'receiver', 'The scheduling term permits execution if this channel has at least a given number of messages available.', 'Flags: GXF_PARAMETER_FLAGS_NONE', 'Type: GXF_PARAMETER_TYPE_HANDLE', 'Handle Type: nvidia::gxf::Receiver', '\\\\n\\\\n    nvidia::gxf::MultiMessageAvailableSchedulingTerm\\\\n    \\\\n', 'A component which specifies that an entity shall be executed when a queue has at least a certain number of elements.', 'Component ID: f15dbeaa-afd6-47a6-9ffc-7afd7e1b4c52', 'Base Type: nvidia::gxf::SchedulingTerm', '\\\\n\\\\n    Parameters\\\\n    \\\\n', 'min_size', 'The scheduling term permits execution if all given receivers together have at least the given number of messages available.', 'Flags: GXF_PARAMETER_FLAGS_NONE', 'Type: GXF_PARAMETER_TYPE_UINT64', '\\\\n', 'receivers', 'The scheduling term permits execution if the given channels have at least a given number of messages available.', 'Flags: GXF_PARAMETER_FLAGS_NONE', 'Type: GXF_PARAMETER_TYPE_HANDLE', 'Handle Type: nvidia::gxf::Receiver', '\\\\n\\\\n    nvidia::gxf::ExpiringMessageAvailableSchedulingTerm\\\\n    \\\\n', 'A component which tries to wait for specified number of messages in queue for at most specified time.', 'Component ID: eb22280c-76ff-11eb-b341-cf6b417c95c9', 'Base Type: nvidia::gxf::SchedulingTerm', '\\\\n\\\\n    Parameters\\\\n    \\\\n', 'clock', 'Clock to get time from.', 'Flags: GXF_PARAMETER_FLAGS_NONE', 'Type: GXF_PARAMETER_TYPE_HANDLE', 'Handle Type: nvidia::gxf::Clock', '\\\\n', 'max_batch_size', 'The maximum number of messages to be batched together.', 'Flags: GXF_PARAMETER_FLAGS_NONE', 'Type: GXF_PARAMETER_TYPE_INT64', '\\\\n', 'max_delay_ns', 'The maximum delay from first message to wait before submitting workload anyway.', 'Flags: GXF_PARAMETER_FLAGS_NONE', 'Type: GXF_PARAMETER_TYPE_INT64', '\\\\n', 'receiver', 'Receiver to watch on.', 'Flags: GXF_PARAMETER_FLAGS_NONE', 'Type: GXF_PARAMETER_TYPE_HANDLE', 'Handle Type: nvidia::gxf::Receiver', '\\\\n\\\\n    nvidia::gxf::BooleanSchedulingTerm\\\\n    \\\\n', 'A component which acts as a boolean AND term that can be used to control the execution of the entity.', 'Component ID: e07a0dc4-3908-4df8-8134-7ce38e60fbef', 'Base Type: nvidia::gxf::SchedulingTerm', '\\\\n\\\\n    nvidia::gxf::AsynchronousSchedulingTerm\\\\n    \\\\n', 'A component which is used to inform of that an entity is dependent upon an async event for its execution.', 'Component ID: 56be1662-ff63-4179-9200-3fcd8dc38673', 'Base Type: nvidia::gxf::SchedulingTerm', '\\\\n\\\\n    nvidia::gxf::GreedyScheduler\\\\n    \\\\n', 'A simple poll-based single-threaded scheduler which executes codelets.', 'Component ID: 869d30ca-a443-4619-b988-7a52e657f39b', 'Base Type: nvidia::gxf::Scheduler', '\\\\n\\\\n    Parameters\\\\n    \\\\n', 'clock', 'The clock used by the scheduler to define flow of time. Typical choices are a RealtimeClock or a ManualClock.', 'Flags: GXF_PARAMETER_FLAGS_OPTIONAL', 'Type: GXF_PARAMETER_TYPE_HANDLE', 'Handle Type: nvidia::gxf::Clock', '\\\\n', 'max_duration_ms', 'The maximum duration for which the scheduler will execute (in ms). If not specified the scheduler will run until all work is done. If periodic terms are present this means the application will run indefinitely.', 'Flags: GXF_PARAMETER_FLAGS_OPTIONAL', 'Type: GXF_PARAMETER_TYPE_INT64', '\\\\n', 'realtime', 'This parameter is deprecated. Assign a clock directly.', 'Flags: GXF_PARAMETER_FLAGS_OPTIONAL', 'Type: GXF_PARAMETER_TYPE_BOOL', '\\\\n', 'stop_on_deadlock', 'If enabled the scheduler will stop when all entities are in a waiting state, but no periodic entity exists to break the dead end. Should be disabled when scheduling conditions can be changed by external actors, for example by clearing queues manually.', 'Flags: GXF_PARAMETER_FLAGS_NONE', 'Type: GXF_PARAMETER_TYPE_BOOL', '\\\\n\\\\n    nvidia::gxf::MultiThreadScheduler\\\\n    \\\\n', 'A multi thread scheduler that executes codelets for maximum throughput.', 'Component ID: de5e0646-7fa5-11eb-a5c4-330ebfa81bbf', 'Base Type: nvidia::gxf::Scheduler', '\\\\n\\\\n    Parameters\\\\n    \\\\n', 'check_recession_perios_ms', 'The maximum duration for which the scheduler would wait (in ms) when an entity is not ready to run yet.', 'Flags: GXF_PARAMETER_FLAGS_NONE', 'Type: GXF_PARAMETER_TYPE_INT64', '\\\\n', 'clock', 'The clock used by the scheduler to define flow of time. Typical choices are a RealtimeClock or a ManualClock.', 'Flags: GXF_PARAMETER_FLAGS_NONE', 'Type: GXF_PARAMETER_TYPE_HANDLE', 'Handle Type: nvidia::gxf::Clock', '\\\\n', 'max_duration_ms', 'The maximum duration for which the scheduler will execute (in ms). If not specified the scheduler will run until all work is done. If periodic terms are present this means the application will run indefinitely.', 'Flags: GXF_PARAMETER_FLAGS_OPTIONAL', 'Type: GXF_PARAMETER_TYPE_INT64', '\\\\n', 'stop_on_deadlock', 'If enabled the scheduler will stop when all entities are in a waiting state, but no periodic entity exists to break the dead end. Should be disabled when scheduling conditions can be changed by external actors, for example by clearing queues manually.', 'Flags: GXF_PARAMETER_FLAGS_NONE', 'Type: GXF_PARAMETER_TYPE_BOOL', '\\\\n', 'worker_thread_number', 'Number of threads.', 'Flags: GXF_PARAMETER_FLAGS_NONE', 'Type: GXF_PARAMETER_TYPE_INT64', 'Default: 1', '\\\\n\\\\n    nvidia::gxf::BlockMemoryPool\\\\n    \\\\n', 'A memory pools which provides a maximum number of equally sized blocks of memory.', 'Component ID: 92b627a3-5dd3-4c3c-976c-4700e8a3b96a', 'Base Type: nvidia::gxf::Allocator', '\\\\n\\\\n    Parameters\\\\n    \\\\n', 'block_size', 'The size of one block of memory in byte. Allocation requests can only be fulfilled if they fit into one block. If less memory is requested still a full block is issued.', 'Flags: GXF_PARAMETER_FLAGS_NONE', 'Type: GXF_PARAMETER_TYPE_UINT64', '\\\\n', 'do_not_use_cuda_malloc_host', 'If enabled operator new will be used to allocate host memory instead of cudaMallocHost.', 'Flags: GXF_PARAMETER_FLAGS_NONE', 'Type: GXF_PARAMETER_TYPE_BOOL', 'Default: True', '\\\\n', 'num_blocks', 'The total number of blocks which are allocated by the pool. If more blocks are requested allocation requests will fail.', 'Flags: GXF_PARAMETER_FLAGS_NONE', 'Type: GXF_PARAMETER_TYPE_UINT64', '\\\\n', 'storage_type', 'The memory storage type used by this allocator. Can be kHost (0) or kDevice (1) or kSystem (2).', 'Flags: GXF_PARAMETER_FLAGS_NONE', 'Type: GXF_PARAMETER_TYPE_INT32', 'Default: 0', '\\\\n\\\\n    nvidia::gxf::UnboundedAllocator\\\\n    \\\\n', 'Allocator that uses dynamic memory allocation without an upper bound.', 'Component ID: c3951b16-a01c-539f-d87e-1dc18d911ea0', 'Base Type: nvidia::gxf::Allocator', '\\\\n\\\\n    Parameters\\\\n    \\\\n', 'do_not_use_cuda_malloc_host', 'If enabled operator new will be used to allocate host memory instead of cudaMallocHost.', 'Flags: GXF_PARAMETER_FLAGS_NONE', 'Type: GXF_PARAMETER_TYPE_BOOL', 'Default: True', '\\\\n\\\\n    nvidia::gxf::Tensor\\\\n    \\\\n', 'A component which holds a single tensor.', 'Component ID: 377501d6-9abf-447c-a617-0114d4f33ab8', 'Defined in: gxf/std/tensor.hpp', '\\\\n\\\\n    nvidia::gxf::Timestamp\\\\n    \\\\n', 'Holds message publishing and acquisition related timing information.', 'Component ID: d1095b10-5c90-4bbc-bc89-601134cb4e03', 'Defined in: gxf/std/timestamp.hpp', '\\\\n\\\\n    nvidia::gxf::Metric\\\\n    \\\\n', 'Collects, aggregates, and evaluates metric data.', 'Component ID: f7cef803-5beb-46f1-186a-05d3919842ac', 'Base Type: nvidia::gxf::Component', '\\\\n\\\\n    Parameters\\\\n    \\\\n', 'aggregation_policy', 'Aggregation policy used to aggregate individual metric samples. Choices:{mean, min, max}.', 'Flags: GXF_PARAMETER_FLAGS_OPTIONAL', 'Type: GXF_PARAMETER_TYPE_STRING', '\\\\n', 'lower_threshold', 'Lower threshold of the metric\\u2019s expected range.', 'Flags: GXF_PARAMETER_FLAGS_OPTIONAL', 'Type: GXF_PARAMETER_TYPE_FLOAT64', '\\\\n', 'upper_threshold', 'Upper threshold of the metric\\u2019s expected range.', 'Flags: GXF_PARAMETER_FLAGS_OPTIONAL', 'Type: GXF_PARAMETER_TYPE_FLOAT64', '\\\\n\\\\n    nvidia::gxf::JobStatistics\\\\n    \\\\n', 'Collects runtime statistics.', 'Component ID: 2093b91a-7c82-11eb-a92b-3f1304ecc959', 'Base Type: nvidia::gxf::Component', '\\\\n\\\\n    Parameters\\\\n    \\\\n', 'clock', 'The clock component instance to retrieve time from.', 'Flags: GXF_PARAMETER_FLAGS_NONE', 'Type: GXF_PARAMETER_TYPE_HANDLE', 'Handle Type: nvidia::gxf::Clock', '\\\\n', 'codelet_statistics', 'If set to true, JobStatistics component will collect performance statistics related to codelets.', 'Flags: GXF_PARAMETER_FLAGS_OPTIONAL', 'Type: GXF_PARAMETER_TYPE_BOOL', '\\\\n', 'json_file_path', 'If provided, all the collected performance statistics data will be dumped into a json file.', 'Flags: GXF_PARAMETER_FLAGS_OPTIONAL', 'Type: GXF_PARAMETER_TYPE_STRING', '\\\\n\\\\n    nvidia::gxf::Broadcast\\\\n    \\\\n', 'Messages arrived on the input channel are distributed to all transmitters.', 'Component ID: 3daadb31-0bca-47e5-9924-342b9984a014', 'Base Type: nvidia::gxf::Codelet', '\\\\n\\\\n    Parameters\\\\n    \\\\n', 'mode', 'The broadcast mode. Can be Broadcast or RoundRobin.', 'Flags: GXF_PARAMETER_FLAGS_NONE', 'Type: GXF_PARAMETER_TYPE_CUSTOM', '\\\\n', 'source', 'Flags: GXF_PARAMETER_FLAGS_NONE', 'Type: GXF_PARAMETER_TYPE_HANDLE', 'Handle Type: nvidia::gxf::Receiver', '\\\\n\\\\n    nvidia::gxf::Gather\\\\n    \\\\n', 'All messages arriving on any input channel are published on the single output channel.', 'Component ID: 85f64c84-8236-4035-9b9a-3843a6a2026f', 'Base Type: nvidia::gxf::Codelet', '\\\\n\\\\n    Parameters\\\\n    \\\\n', 'sink', 'The output channel for gathered messages.', 'Flags: GXF_PARAMETER_FLAGS_NONE', 'Type: GXF_PARAMETER_TYPE_HANDLE', 'Handle Type: nvidia::gxf::Transmitter', '\\\\n', 'tick_source_limit', 'Maximum number of messages to take from each source in one tick. 0 means no limit.', 'Flags: GXF_PARAMETER_FLAGS_NONE', 'Type: GXF_PARAMETER_TYPE_INT64', '\\\\n\\\\n    nvidia::gxf::TensorCopier\\\\n    \\\\n', 'Copies tensor either from host to device or from device to host.', 'Component ID: c07680f4-75b3-189b-8886-4b5e448e7bb6', 'Base Type: nvidia::gxf::Codelet', '\\\\n\\\\n    Parameters\\\\n    \\\\n', 'allocator', 'Memory allocator for tensor data', 'Flags: GXF_PARAMETER_FLAGS_NONE', 'Type: GXF_PARAMETER_TYPE_HANDLE', 'Handle Type: nvidia::gxf::Allocator', '\\\\n', 'mode', 'Configuration to select what tensors to copy:', 'kCopyToDevice (0) - copies to device memory, ignores device allocation', 'kCopyToHost (1) - copies to pinned host memory, ignores host allocation', 'kCopyToSystem (2) - copies to system memory, ignores system allocation.', 'Flags: GXF_PARAMETER_FLAGS_NONE', 'Type: GXF_PARAMETER_TYPE_INT32', 'receiver', 'Receiver for incoming entities.', 'Flags: GXF_PARAMETER_FLAGS_NONE', 'Type: GXF_PARAMETER_TYPE_HANDLE', 'Handle Type: nvidia::gxf::Receiver', '\\\\n', 'transmitter', 'Transmitter for outgoing entities.', 'Flags: GXF_PARAMETER_FLAGS_NONE', 'Type: GXF_PARAMETER_TYPE_HANDLE', 'Handle Type: nvidia::gxf::Transmitter', '\\\\n\\\\n    nvidia::gxf::TimedThrottler\\\\n    \\\\n', 'Publishes the received entity respecting the timestamp within the entity.', 'Component ID: ccf7729c-f62c-4250-5cf7-f4f3ec80454b', 'Base Type: nvidia::gxf::Codelet', '\\\\n\\\\n    Parameters\\\\n    \\\\n', 'execution_clock', 'Clock on which the codelet is executed by the scheduler.', 'Flags: GXF_PARAMETER_FLAGS_NONE', 'Type: GXF_PARAMETER_TYPE_HANDLE', 'Handle Type: nvidia::gxf::Clock', '\\\\n', 'receiver', 'Channel to receive messages that need to be synchronized.', 'Flags: GXF_PARAMETER_FLAGS_NONE', 'Type: GXF_PARAMETER_TYPE_HANDLE', 'Handle Type: nvidia::gxf::Receiver', '\\\\n', 'scheduling_term', 'Scheduling term for executing the codelet.', 'Flags: GXF_PARAMETER_FLAGS_NONE', 'Type: GXF_PARAMETER_TYPE_HANDLE', 'Handle Type: nvidia::gxf::TargetTimeSchedulingTerm', '\\\\n', 'throttling_clock', 'Clock which the received entity timestamps are based on.', 'Flags: GXF_PARAMETER_FLAGS_NONE', 'Type: GXF_PARAMETER_TYPE_HANDLE', 'Handle Type: nvidia::gxf::Clock', '\\\\n', 'transmitter', 'Transmitter channel publishing messages at appropriate timesteps.', 'Flags: GXF_PARAMETER_FLAGS_NONE', 'Type: GXF_PARAMETER_TYPE_HANDLE', 'Handle Type: nvidia::gxf::Transmitter', '\\\\n\\\\n    nvidia::gxf::Vault\\\\n    \\\\n', 'Safely stores received entities for further processing.', 'Component ID: 1108cb8d-85e4-4303-ba02-d27406ee9e65', 'Base Type: nvidia::gxf::Codelet', '\\\\n\\\\n    Parameters\\\\n    \\\\n', 'drop_waiting', 'If too many messages are waiting the oldest ones are dropped.', 'Flags: GXF_PARAMETER_FLAGS_NONE', 'Type: GXF_PARAMETER_TYPE_BOOL', '\\\\n', 'max_waiting_count', 'The maximum number of waiting messages. If exceeded the codelet will stop pulling messages out of the input queue.', 'Flags: GXF_PARAMETER_FLAGS_NONE', 'Type: GXF_PARAMETER_TYPE_UINT64', '\\\\n', 'source', 'Receiver from which messages are taken and transferred to the vault.', 'Flags: GXF_PARAMETER_FLAGS_NONE', 'Type: GXF_PARAMETER_TYPE_HANDLE', 'Handle Type: nvidia::gxf::Receiver', '\\\\n\\\\n    nvidia::gxf::Subgraph\\\\n    \\\\n', 'Helper component to import a subgraph.', 'Component ID: 576eedd7-7c3f-4d2f-8c38-8baa79a3d231', 'Base Type: nvidia::gxf::Component', '\\\\n\\\\n    Parameters\\\\n    \\\\n', 'location', 'Yaml source of the subgraph.', 'Flags: GXF_PARAMETER_FLAGS_NONE', 'Type: GXF_PARAMETER_TYPE_STRING', '\\\\n\\\\n    nvidia::gxf::EndOfStream\\\\n    \\\\n', 'A component which represents end-of-stream notification.', 'Component ID: 8c42f7bf-7041-4626-9792-9eb20ce33cce', 'Defined in: gxf/std/eos.hpp', '\\\\n\\\\n    nvidia::gxf::Synchronization\\\\n    \\\\n', 'Component to synchronize messages from multiple receivers based on the acq_time.', 'Component ID: f1cb80d6-e5ec-4dba-9f9e-b06b0def4443', 'Base Type: nvidia::gxf::Codelet', '\\\\n\\\\n    Parameters\\\\n    \\\\n', 'inputs', 'All the inputs for synchronization. Number of inputs must match that of the outputs.', 'Flags: GXF_PARAMETER_FLAGS_NONE', 'Type: GXF_PARAMETER_TYPE_HANDLE', 'Handle Type: nvidia::gxf::Receiver', '\\\\n', 'outputs', 'All the outputs for synchronization. Number of outputs must match that of the inputs.', 'Flags: GXF_PARAMETER_FLAGS_NONE', 'Type: GXF_PARAMETER_TYPE_HANDLE', 'Handle Type: nvidia::gxf::Transmitter', '\\\\n\\\\n    signed char\\\\n    \\\\n', 'Component ID: 83905c6a-ca34-4f40-b474-cf2cde8274de', '\\\\n\\\\n    unsigned char\\\\n    \\\\n', 'Component ID: d4299e15-0006-d0bf-8cbd-9b743575e155', '\\\\n\\\\n    short int\\\\n    \\\\n', 'Component ID: 9e1dde79-3550-307d-e81a-b864890b3685', '\\\\n\\\\n    short unsigned int\\\\n    \\\\n', 'Component ID: 958cbdef-b505-bcc7-8a43-dc4b23f8cead', '\\\\n\\\\n    int\\\\n    \\\\n', 'Component ID: b557ec7f-49a5-08f7-a35e-086e9d1ea767', '\\\\n\\\\n    unsigned int\\\\n    \\\\n', 'Component ID: d5506b68-5c86-fedb-a2a2-a7bae38ff3ef', '\\\\n\\\\n    long int\\\\n    \\\\n', 'Component ID: c611627b-6393-365f-d234-1f26bfa8d28f', '\\\\n\\\\n    long unsigned int\\\\n    \\\\n', 'Component ID: c4385f5b-6e25-01d9-d7b5-6e7cadc704e8', '\\\\n\\\\n    float\\\\n    \\\\n', 'Component ID: a81bf295-421f-49ef-f24a-f59e9ea0d5d6', '\\\\n\\\\n    double\\\\n    \\\\n', 'Component ID: d57cee59-686f-e26d-95be-659c126b02ea', '\\\\n\\\\n    bool\\\\n    \\\\n', 'Component ID: c02f9e93-d01b-1d29-f523-78d2a9195128', 'Privacy Policy | Manage My Privacy | Do Not Sell or Share My Data | Terms of Service | Accessibility | Corporate Policies | Product Security | Contact', 'Copyright \\u00a9 2024 NVIDIA Corporation']\",\n          \"['14. Bundled Services', 'Privacy Policy | Manage My Privacy | Do Not Sell or Share My Data | Terms of Service | Accessibility | Corporate Policies | Product Security | Contact', 'Copyright \\u00a9 2024 NVIDIA Corporation']\",\n          \"['vcfanno', 'Annotate a VCF file using dbsnp and annotation files (Original VCFANNO Project).', 'Quick Start', '$ pbrun vcfanno \\\\\\\\\\\\n    --in-vcf input.vcf \\\\\\\\\\\\n    --out-vcf output.vcf \\\\\\\\\\\\n    --annotations  database.vcf.gz \\\\\\\\\\\\n    --dbsnp dbsnp.vcf.gz', '\\\\n', 'vcfanno Reference', 'Annotate a VCF using dbsnp and annotation files.', '\\\\n', '\\\\n\\\\n    Input/Output file options\\\\n    \\\\n', 'Path to the input VCF file to annotate. (default:\\\\nNone)', 'Option is required.', 'A prefix and VCF in the format\\\\n<prefix:/absolute/path/anno.vcf.gz>. INFO fields from\\\\n<anno.vcf.gz> will be added to the input VCF. This\\\\noption can be used multiple times and is required if\\\\n--dbsnp is not used. Annotation VCFs must be bgzipped\\\\nand tabix indexed. (default: None)', 'dbSNP file(s) used to annotate the input VCF, passed\\\\nin the same way as --annotations (A prefix and VCF in\\\\nthe format <prefix:/absolute/path/dbsnp.vcf.gz>). This\\\\noption can be used multiple times and is required if\\\\n--annotations is not used. Must be passed separately\\\\nas special handing is performed to fix errors in the\\\\ndbSNP VCF. (default: None)', 'Path to the output annotated VCF file.\\\\n(default: None)', 'Option is required.', '\\\\n', '\\\\n', '\\\\n\\\\n    Tool Options:\\\\n    \\\\n', 'Number of parallel threads to pass to vcfanno.\\\\n(default: 8)', '\\\\n', '\\\\n', '\\\\n\\\\n    Common options:\\\\n    \\\\n', 'Path to the log file. If not specified, messages will only be written\\\\nto the standard error output. (default: None)', 'Full path to the directory where temporary files will be stored.', 'Full path to the PetaGene installation directory. By default, this\\\\nshould have been installed at /opt/petagene. Use of this option also\\\\nrequires that the PetaLink library has been preloaded by setting the\\\\nLD_PRELOAD environment variable. Optionally set the PETASUITE_REFPATH\\\\nand PGCLOUD_CREDPATH environment variables that are used for data and\\\\ncredentials (default: None)', 'Do not delete the directory storing temporary files after completion.', 'Path to license file license.bin if not in the installation directory.', 'Do not override seccomp options for docker (default: None).', 'View compatible software versions.', '\\\\n', '\\\\n', 'Privacy Policy | Manage My Privacy | Do Not Sell or Share My Data | Terms of Service | Accessibility | Corporate Policies | Product Security | Contact', 'Copyright \\u00a9 2024 NVIDIA Corporation']\"\n        ],\n        \"semantic_type\": \"\",\n        \"description\": \"\"\n      }\n    }\n  ]\n}"
            }
          },
          "metadata": {},
          "execution_count": 7
        }
      ]
    },
    {
      "cell_type": "markdown",
      "source": [],
      "metadata": {
        "id": "9x4cPiyvJLro"
      }
    },
    {
      "cell_type": "markdown",
      "source": [],
      "metadata": {
        "id": "xzBUcl76JLZr"
      }
    },
    {
      "cell_type": "code",
      "source": [
        "text_splitter = RecursiveCharacterTextSplitter(\n",
        "    chunk_size=2000,\n",
        "    chunk_overlap=100\n",
        ")\n",
        "\n",
        "\n",
        "def create_text_chunks(content):\n",
        "    chunks = text_splitter.split_text(content)\n",
        "    return chunks\n",
        "\n",
        "\n",
        "chunked_data = []\n",
        "\n",
        "for index, row in df.iterrows():\n",
        "    url = row['url']\n",
        "    content = row['data']\n",
        "    chunks = create_text_chunks(content)\n",
        "\n",
        "    for chunk in chunks:\n",
        "        chunked_data.append({'url': url, 'chunk': chunk})\n",
        "\n",
        "chunked_df = pd.DataFrame(chunked_data)\n",
        "\n",
        "chunked_df.to_csv('chunked_data.csv', index=False)"
      ],
      "metadata": {
        "id": "n8PycVVcC5M7"
      },
      "execution_count": null,
      "outputs": []
    },
    {
      "cell_type": "code",
      "source": [
        "type(chunked_data)"
      ],
      "metadata": {
        "colab": {
          "base_uri": "https://localhost:8080/"
        },
        "id": "NwSnkMMMJCB0",
        "outputId": "87e837b9-ad1c-48ac-f453-c327b57068d4"
      },
      "execution_count": null,
      "outputs": [
        {
          "output_type": "execute_result",
          "data": {
            "text/plain": [
              "list"
            ]
          },
          "metadata": {},
          "execution_count": 9
        }
      ]
    },
    {
      "cell_type": "code",
      "source": [
        "chunked_csv=pd.read_csv(\"/content/chunked_data1.csv\")\n"
      ],
      "metadata": {
        "id": "LNo1ntDGVE2r"
      },
      "execution_count": null,
      "outputs": []
    },
    {
      "cell_type": "code",
      "source": [
        "chunked_df.shape"
      ],
      "metadata": {
        "colab": {
          "base_uri": "https://localhost:8080/"
        },
        "id": "8M75Q-FdVZq-",
        "outputId": "d0e3ce44-f8d6-44e6-ff10-7e57944f7469"
      },
      "execution_count": null,
      "outputs": [
        {
          "output_type": "execute_result",
          "data": {
            "text/plain": [
              "(38114, 2)"
            ]
          },
          "metadata": {},
          "execution_count": 14
        }
      ]
    },
    {
      "cell_type": "code",
      "source": [
        "print(349615)"
      ],
      "metadata": {
        "id": "tUO1t0rQYyMs",
        "colab": {
          "base_uri": "https://localhost:8080/"
        },
        "outputId": "8db0ca1d-be20-473d-b2af-e239b4c6b6a4"
      },
      "execution_count": null,
      "outputs": [
        {
          "output_type": "stream",
          "name": "stdout",
          "text": [
            "349615\n"
          ]
        }
      ]
    },
    {
      "cell_type": "code",
      "source": [],
      "metadata": {
        "id": "H1zu6KcqImu3"
      },
      "execution_count": null,
      "outputs": []
    }
  ],
  "metadata": {
    "colab": {
      "provenance": [],
      "authorship_tag": "ABX9TyOl02fCn8xnywEWUNGibBiy",
      "include_colab_link": true
    },
    "kernelspec": {
      "display_name": "Python 3",
      "name": "python3"
    },
    "language_info": {
      "name": "python"
    }
  },
  "nbformat": 4,
  "nbformat_minor": 0
}